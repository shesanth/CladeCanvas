{
 "cells": [
  {
   "cell_type": "markdown",
   "id": "545ab7ad",
   "metadata": {},
   "source": [
    "# 📊 Enrichment Overview and HTML Preview"
   ]
  },
  {
   "cell_type": "code",
   "execution_count": 31,
   "id": "8846942d",
   "metadata": {},
   "outputs": [],
   "source": [
    "import pandas as pd\n",
    "from sqlalchemy import create_engine\n",
    "from dotenv import load_dotenv\n",
    "import os\n",
    "\n",
    "load_dotenv()\n",
    "engine = create_engine(os.getenv(\"POSTGRES_URL\"))\n"
   ]
  },
  {
   "cell_type": "markdown",
   "id": "0f00c9a6",
   "metadata": {},
   "source": [
    "## Load Tables"
   ]
  },
  {
   "cell_type": "code",
   "execution_count": 32,
   "id": "8d952ac2",
   "metadata": {},
   "outputs": [],
   "source": [
    "nodes_df = pd.read_sql(\"SELECT * FROM nodes\", engine)\n",
    "meta_df = pd.read_sql(\"SELECT * FROM metadata\", engine)\n",
    "df = nodes_df.merge(meta_df, on=\"ott_id\", how=\"left\")\n"
   ]
  },
  {
   "cell_type": "markdown",
   "id": "496e5594",
   "metadata": {},
   "source": [
    "## Metadata Enrichment Stats"
   ]
  },
  {
   "cell_type": "code",
   "execution_count": 33,
   "id": "3a07a075",
   "metadata": {},
   "outputs": [
    {
     "name": "stdout",
     "output_type": "stream",
     "text": [
      "Enriched: 2,272 / 2,870,658\n",
      "With images: 256\n",
      "With descriptions: 2,231\n",
      "With Wikipedia pages: 473\n"
     ]
    }
   ],
   "source": [
    "total_nodes = len(nodes_df)\n",
    "total_enriched = len(meta_df)\n",
    "with_images = meta_df['image_url'].notna().sum()\n",
    "with_desc = meta_df['description'].notna().sum()\n",
    "with_page = meta_df['wiki_page_url'].notna().sum()\n",
    "\n",
    "print(f\"Enriched: {total_enriched:,} / {total_nodes:,}\")\n",
    "print(f\"With images: {with_images:,}\")\n",
    "print(f\"With descriptions: {with_desc:,}\")\n",
    "print(f\"With Wikipedia pages: {with_page:,}\")\n"
   ]
  },
  {
   "cell_type": "code",
   "execution_count": 34,
   "id": "c7115a3a",
   "metadata": {},
   "outputs": [
    {
     "data": {
      "image/png": "[encoded data removed]",
      "text/plain": [
       "<Figure size 640x480 with 1 Axes>"
      ]
     },
     "metadata": {},
     "output_type": "display_data"
    }
   ],
   "source": [
    "import matplotlib.pyplot as plt\n",
    "\n",
    "counts = {\n",
    "    \"Images\": with_images,\n",
    "    \"Descriptions\": with_desc,\n",
    "    \"Wikipedia pages\": with_page,\n",
    "    \"Missing metadata\": total_nodes - total_enriched\n",
    "}\n",
    "\n",
    "plt.bar(counts.keys(), counts.values())\n",
    "plt.ylabel(\"Count\")\n",
    "plt.title(\"Metadata Coverage\")\n",
    "plt.xticks(rotation=45)\n",
    "plt.tight_layout()\n",
    "plt.show()\n"
   ]
  },
  {
   "cell_type": "markdown",
   "id": "230e2073",
   "metadata": {},
   "source": [
    "## HTML Preview of Enriched Taxa"
   ]
  },
  {
   "cell_type": "code",
   "execution_count": 35,
   "id": "2d8981eb",
   "metadata": {},
   "outputs": [
    {
     "data": {
      "text/html": [
       "<table border=\"1\" class=\"dataframe\">\n",
       "  <thead>\n",
       "    <tr style=\"text-align: right;\">\n",
       "      <th>image</th>\n",
       "      <th>ott_id</th>\n",
       "      <th>name</th>\n",
       "      <th>common_name</th>\n",
       "      <th>rank</th>\n",
       "      <th>enriched_score</th>\n",
       "      <th>full_description</th>\n",
       "      <th>link</th>\n",
       "    </tr>\n",
       "  </thead>\n",
       "  <tbody>\n",
       "    <tr>\n",
       "      <td><a href=\"http://commons.wikimedia.org/wiki/Special:FilePath/Columbellidae%20-%20Columbella%20strombiformis.JPG\" target=\"_blank\"><img src=\"http://commons.wikimedia.org/wiki/Special:FilePath/Columbellidae%20-%20Columbella%20strombiformis.JPG\" width=\"60\"></a></td>\n",
       "      <td>2900356</td>\n",
       "      <td>Columbella strombiformis</td>\n",
       "      <td>Columbella strombiformis</td>\n",
       "      <td>species</td>\n",
       "      <td>1.0</td>\n",
       "      <td><p class=\"mw-empty-elt\"> </p> <p><i><b>Columbella strombiformis</b></i>, common name <b>stromboid dove shell</b>, is a species of sea snail, a marine gastropod mollusk in the family Columbellidae, the dove snails. </p></td>\n",
       "      <td><a href=\"https://en.wikipedia.org/wiki/Columbella_strombiformis\" target=\"_blank\">🔗</a></td>\n",
       "    </tr>\n",
       "    <tr>\n",
       "      <td><a href=\"http://commons.wikimedia.org/wiki/Special:FilePath/Polypterus%20senegalus%20-%20Senegal-Fl%C3%B6sselhecht%20-%20Albino.jpg\" target=\"_blank\"><img src=\"http://commons.wikimedia.org/wiki/Special:FilePath/Polypterus%20senegalus%20-%20Senegal-Fl%C3%B6sselhecht%20-%20Albino.jpg\" width=\"60\"></a></td>\n",
       "      <td>1064124</td>\n",
       "      <td>Polypterus senegalus</td>\n",
       "      <td>Polypterus senegalus</td>\n",
       "      <td>species</td>\n",
       "      <td>1.0</td>\n",
       "      <td><p class=\"mw-empty-elt\"> </p> <p><i><b>Polypterus senegalus</b></i>, commonly known as the <b>Senegal bichir</b>, <b>gray bichir</b> or <b>Cuvier's bichir</b>, is an African species of ray-finned fish in the bichir family, Polypteridae. It is a typical example of polypterid fishes, as most of its defining physical features are common across the genus, such as its ancient, lungfish- or arowana-like appearance, the ability to breathe atmospheric oxygen, and its armor-like scales. These factors have influenced the species' popularity in captivity, and it is commonly kept by aquarists and other hobbyists. </p><p><i>P. senegalus</i> is sometimes, confusingly, called the \"dinosaur eel\" or \"dragon fish\", among other misnomers; however, the bichir is not an eel, nor is it a reptile or dinosaur. </p></td>\n",
       "      <td><a href=\"https://en.wikipedia.org/wiki/Polypterus_senegalus\" target=\"_blank\">🔗</a></td>\n",
       "    </tr>\n",
       "    <tr>\n",
       "      <td><a href=\"http://commons.wikimedia.org/wiki/Special:FilePath/Ancula%20lentiginosa%20from%20Santa%20Cruz%2C%20California.jpg\" target=\"_blank\"><img src=\"http://commons.wikimedia.org/wiki/Special:FilePath/Ancula%20lentiginosa%20from%20Santa%20Cruz%2C%20California.jpg\" width=\"60\"></a></td>\n",
       "      <td>2874986</td>\n",
       "      <td>Ancula lentiginosa</td>\n",
       "      <td>Ancula lentiginosa</td>\n",
       "      <td>species</td>\n",
       "      <td>1.0</td>\n",
       "      <td><p class=\"mw-empty-elt\"> </p> <p><i><b>Ancula lentiginosa</b></i> is a species of sea slug, a dorid nudibranch, a marine gastropod mollusc in the family Goniodorididae. </p></td>\n",
       "      <td><a href=\"https://en.wikipedia.org/wiki/Ancula_lentiginosa\" target=\"_blank\">🔗</a></td>\n",
       "    </tr>\n",
       "    <tr>\n",
       "      <td><a href=\"http://commons.wikimedia.org/wiki/Special:FilePath/Psilopsiagon%20a%20aurifrons-Male-JMM-SBartolo%20Zarate-DSC%200510-20111030.jpg\" target=\"_blank\"><img src=\"http://commons.wikimedia.org/wiki/Special:FilePath/Psilopsiagon%20a%20aurifrons-Male-JMM-SBartolo%20Zarate-DSC%200510-20111030.jpg\" width=\"60\"></a></td>\n",
       "      <td>1023130</td>\n",
       "      <td>Psilopsiagon aurifrons</td>\n",
       "      <td>Mountain Parakeet</td>\n",
       "      <td>species</td>\n",
       "      <td>1.0</td>\n",
       "      <td><p class=\"mw-empty-elt\"> </p> <p>The <b>mountain parakeet</b> (<i><b>Psilopsiagon aurifrons</b></i>), also known as the <b>golden-fronted parakeet</b>, is a species of parrot, one of two in the genus <i>Psilopsiagon</i> within the family Psittacidae. It is found in the Puna grassland. Its natural habitat is subtropical or tropical high-altitude shrubland. Four subspecies are recognised. </p></td>\n",
       "      <td><a href=\"https://en.wikipedia.org/wiki/Mountain_parakeet\" target=\"_blank\">🔗</a></td>\n",
       "    </tr>\n",
       "    <tr>\n",
       "      <td><a href=\"http://commons.wikimedia.org/wiki/Special:FilePath/Sundadanio%20cf.%20axelrodi.jpg\" target=\"_blank\"><img src=\"http://commons.wikimedia.org/wiki/Special:FilePath/Sundadanio%20cf.%20axelrodi.jpg\" width=\"60\"></a></td>\n",
       "      <td>247369</td>\n",
       "      <td>Sundadanio axelrodi</td>\n",
       "      <td>Sundadanio axelrodi</td>\n",
       "      <td>species</td>\n",
       "      <td>1.0</td>\n",
       "      <td><p class=\"mw-empty-elt\"> </p> <p><i><b>Sundadanio axelrodi</b></i> is a species of freshwater ray-finned fish belonging to the family Sundadanionidae, the tiny danios. This fish is known only from Bintan Island in the Riau Islands east of Sumatra. Originally described as a rasbora, <i>Rasbora axelrodi</i>, this tiny species was later deemed to be more closely related to the danios but not enough to be moved into the genus <i>Danio</i>. <i>Sundadanio axelrodi</i> reaches a maximum size of 1.7 cm. <i>Sundadanio</i> was considered monotypic until the genus was reassessed by Conway, Kottelat and Tan in 2011. </p></td>\n",
       "      <td><a href=\"https://en.wikipedia.org/wiki/Sundadanio_axelrodi\" target=\"_blank\">🔗</a></td>\n",
       "    </tr>\n",
       "    <tr>\n",
       "      <td><a href=\"http://commons.wikimedia.org/wiki/Special:FilePath/ZooKeys-204-001-g004%20Necroraphidia%20fig1.jpg\" target=\"_blank\"><img src=\"http://commons.wikimedia.org/wiki/Special:FilePath/ZooKeys-204-001-g004%20Necroraphidia%20fig1.jpg\" width=\"60\"></a></td>\n",
       "      <td>6290770</td>\n",
       "      <td>Necroraphidia</td>\n",
       "      <td>Necroraphidia</td>\n",
       "      <td>genus</td>\n",
       "      <td>1.0</td>\n",
       "      <td><p class=\"mw-empty-elt\"> </p> <p><i><b>Necroraphidia</b></i> is an extinct genus of snakefly in the family Mesoraphidiidae. The genus is solely known from Early Cretaceous, Albian age, fossil amber found in Spain. Currently the genus comprises a single species, <i><b>Necroraphidia arcuata</b></i>. </p></td>\n",
       "      <td><a href=\"https://en.wikipedia.org/wiki/Necroraphidia\" target=\"_blank\">🔗</a></td>\n",
       "    </tr>\n",
       "    <tr>\n",
       "      <td><a href=\"http://commons.wikimedia.org/wiki/Special:FilePath/Thimindu%202010%2002%2020%20Sinharaja%20Sri%20Lanka%20Blue%20Magpie%201.jpg\" target=\"_blank\"><img src=\"http://commons.wikimedia.org/wiki/Special:FilePath/Thimindu%202010%2002%2020%20Sinharaja%20Sri%20Lanka%20Blue%20Magpie%201.jpg\" width=\"60\"></a></td>\n",
       "      <td>3598040</td>\n",
       "      <td>Urocissa ornata</td>\n",
       "      <td>Sri Lanka Blue Magpie</td>\n",
       "      <td>species</td>\n",
       "      <td>1.0</td>\n",
       "      <td><p class=\"mw-empty-elt\"> </p> <p>The <b>Sri Lanka blue magpie</b> or <b>Ceylon magpie</b> (<i><b>Urocissa ornata</b></i>) is a brightly coloured member of the family Corvidae, found exclusively in Sri Lanka. This species is adapted to hunting in the dense canopy, where it is highly active and nimble. Its flight is rather weak, though, and is rarely used to cover great distances. In spite of the Sri Lanka blue magpie's ability to adapt to the presence of humans, it is classified as vulnerable to extinction due to the fragmentation and destruction of its habitat of dense primary forest in the wet zone of southern Sri Lanka. </p></td>\n",
       "      <td><a href=\"https://en.wikipedia.org/wiki/Sri_Lanka_blue_magpie\" target=\"_blank\">🔗</a></td>\n",
       "    </tr>\n",
       "    <tr>\n",
       "      <td><a href=\"http://commons.wikimedia.org/wiki/Special:FilePath/Pl.1-02-Tortilia%20parathicta%20%28Meyrick%2C%201913%29%20%28Diadoxastis%29.jpg\" target=\"_blank\"><img src=\"http://commons.wikimedia.org/wiki/Special:FilePath/Pl.1-02-Tortilia%20parathicta%20%28Meyrick%2C%201913%29%20%28Diadoxastis%29.jpg\" width=\"60\"></a></td>\n",
       "      <td>3233543</td>\n",
       "      <td>Tortilia</td>\n",
       "      <td>Tortilia</td>\n",
       "      <td>genus</td>\n",
       "      <td>1.0</td>\n",
       "      <td><p class=\"mw-empty-elt\"> </p> <p><i><b>Tortilia</b></i> is a genus of moths in the Stathmopodidae family. </p></td>\n",
       "      <td><a href=\"https://en.wikipedia.org/wiki/Tortilia\" target=\"_blank\">🔗</a></td>\n",
       "    </tr>\n",
       "    <tr>\n",
       "      <td><a href=\"http://commons.wikimedia.org/wiki/Special:FilePath/Soldier%20among%20workers%20and%20brood.jpg\" target=\"_blank\"><img src=\"http://commons.wikimedia.org/wiki/Special:FilePath/Soldier%20among%20workers%20and%20brood.jpg\" width=\"60\"></a></td>\n",
       "      <td>53344</td>\n",
       "      <td>Coptotermes gestroi</td>\n",
       "      <td>Coptotermes gestroi</td>\n",
       "      <td>species</td>\n",
       "      <td>1.0</td>\n",
       "      <td><p class=\"mw-empty-elt\"> </p> <p><i><b>Coptotermes gestroi</b></i>, commonly known as the <b>Asian subterranean termite</b> is a small species of termite that lives underground. Both this species and the Formosan subterranean termite (<i>Coptotermes formosanus</i>) are destructive pests native to Asia, but have spread to other parts of the world including the United States. In Asia, this species is known as the <b>Philippine milk termite</b>. </p><p>The termite species <i>Coptotermes havilandi</i> was determined by Kirton and Brown in 2003 to be identical to <i>Coptotermes gestroi</i>, so following the principle of priority, the older name is now used. </p></td>\n",
       "      <td><a href=\"https://en.wikipedia.org/wiki/Coptotermes_gestroi\" target=\"_blank\">🔗</a></td>\n",
       "    </tr>\n",
       "    <tr>\n",
       "      <td><a href=\"http://commons.wikimedia.org/wiki/Special:FilePath/Allen%27s%20Hummingbird%20%28Selasphorus%20sasin%29.jpg\" target=\"_blank\"><img src=\"http://commons.wikimedia.org/wiki/Special:FilePath/Allen%27s%20Hummingbird%20%28Selasphorus%20sasin%29.jpg\" width=\"60\"></a></td>\n",
       "      <td>951132</td>\n",
       "      <td>Selasphorus sasin</td>\n",
       "      <td>Allen's Hummingbird</td>\n",
       "      <td>species</td>\n",
       "      <td>1.0</td>\n",
       "      <td><p class=\"mw-empty-elt\"> </p> <p><b>Allen's hummingbird</b> (<i><b>Selasphorus sasin</b></i>) is a species of hummingbird that breeds in the western United States. It is one of seven species in the genus <i>Selasphorus</i>. </p></td>\n",
       "      <td><a href=\"https://en.wikipedia.org/wiki/Allen's_hummingbird\" target=\"_blank\">🔗</a></td>\n",
       "    </tr>\n",
       "  </tbody>\n",
       "</table>"
      ],
      "text/plain": [
       "<IPython.core.display.HTML object>"
      ]
     },
     "metadata": {},
     "output_type": "display_data"
    }
   ],
   "source": [
    "from IPython.display import display, HTML\n",
    "\n",
    "# Filter rows that have BOTH image and full description\n",
    "preview_df = df[\n",
    "    df[\"image_url\"].notna() &\n",
    "    df[\"full_description\"].notna()\n",
    "].copy()\n",
    "\n",
    "# Wikipedia link icon\n",
    "preview_df[\"link\"] = preview_df[\"wiki_page_url\"].apply(\n",
    "    lambda url: f'<a href=\"{url}\" target=\"_blank\">🔗</a>' if pd.notna(url) else \"\"\n",
    ")\n",
    "\n",
    "# Clickable thumbnail image\n",
    "preview_df[\"image\"] = preview_df[\"image_url\"].apply(\n",
    "    lambda url: f'<a href=\"{url}\" target=\"_blank\"><img src=\"{url}\" width=\"60\"></a>' if pd.notna(url) else \"\"\n",
    ")\n",
    "\n",
    "# Columns to display\n",
    "cols = [\n",
    "    \"image\",\n",
    "    \"ott_id\",\n",
    "    \"name\",\n",
    "    \"common_name\",\n",
    "    \"rank\",\n",
    "    \"enriched_score\",\n",
    "    \"full_description\",\n",
    "    \"link\"\n",
    "]\n",
    "\n",
    "html = preview_df[cols].sample(n=min(10, len(preview_df))).to_html(escape=False, index=False)\n",
    "display(HTML(html))"
   ]
  }
 ],
 "metadata": {
  "kernelspec": {
   "display_name": ".venv",
   "language": "python",
   "name": "python3"
  },
  "language_info": {
   "codemirror_mode": {
    "name": "ipython",
    "version": 3
   },
   "file_extension": ".py",
   "mimetype": "text/x-python",
   "name": "python",
   "nbconvert_exporter": "python",
   "pygments_lexer": "ipython3",
   "version": "3.13.5"
  }
 },
 "nbformat": 4,
 "nbformat_minor": 5
}
