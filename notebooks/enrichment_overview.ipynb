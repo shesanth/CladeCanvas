{
 "cells": [
  {
   "cell_type": "markdown",
   "id": "545ab7ad",
   "metadata": {},
   "source": [
    "# Enrichment Overview and HTML Preview"
   ]
  },
  {
   "cell_type": "code",
   "execution_count": 12,
   "id": "8846942d",
   "metadata": {},
   "outputs": [],
   "source": [
    "import pandas as pd\n",
    "from sqlalchemy import create_engine\n",
    "from dotenv import load_dotenv\n",
    "import os\n",
    "\n",
    "load_dotenv()\n",
    "engine = create_engine(os.getenv(\"POSTGRES_URL\"))\n"
   ]
  },
  {
   "cell_type": "markdown",
   "id": "0f00c9a6",
   "metadata": {},
   "source": [
    "## Load Tables"
   ]
  },
  {
   "cell_type": "code",
   "execution_count": 13,
   "id": "8d952ac2",
   "metadata": {},
   "outputs": [],
   "source": [
    "nodes_df = pd.read_sql(\"SELECT * FROM nodes\", engine)\n",
    "meta_df = pd.read_sql(\"SELECT * FROM metadata\", engine)\n",
    "df = nodes_df.merge(meta_df, on=\"ott_id\", how=\"left\")\n"
   ]
  },
  {
   "cell_type": "markdown",
   "id": "496e5594",
   "metadata": {},
   "source": [
    "## Metadata Enrichment Stats"
   ]
  },
  {
   "cell_type": "code",
   "execution_count": 14,
   "id": "3a07a075",
   "metadata": {},
   "outputs": [
    {
     "name": "stdout",
     "output_type": "stream",
     "text": [
      "Enriched: 1,350,893 / 2,870,658\n",
      "With images: 154,848\n",
      "With descriptions: 1,328,708\n",
      "With Wikipedia pages: 275,243\n"
     ]
    }
   ],
   "source": [
    "total_nodes = len(nodes_df)\n",
    "total_enriched = len(meta_df)\n",
    "with_images = meta_df['image_url'].notna().sum()\n",
    "with_desc = meta_df['description'].notna().sum()\n",
    "with_page = meta_df['wiki_page_url'].notna().sum()\n",
    "\n",
    "print(f\"Enriched: {total_enriched:,} / {total_nodes:,}\")\n",
    "print(f\"With images: {with_images:,}\")\n",
    "print(f\"With descriptions: {with_desc:,}\")\n",
    "print(f\"With Wikipedia pages: {with_page:,}\")\n"
   ]
  },
  {
   "cell_type": "code",
   "execution_count": 15,
   "id": "c7115a3a",
   "metadata": {},
   "outputs": [
    {
     "data": {
      "image/png": "[encoded data removed]",
      "text/plain": [
       "<Figure size 640x480 with 1 Axes>"
      ]
     },
     "metadata": {},
     "output_type": "display_data"
    }
   ],
   "source": [
    "import matplotlib.pyplot as plt\n",
    "\n",
    "counts = {\n",
    "    \"Images\": with_images,\n",
    "    \"Descriptions\": with_desc,\n",
    "    \"Wikipedia pages\": with_page,\n",
    "    \"Missing metadata\": total_nodes - total_enriched\n",
    "}\n",
    "\n",
    "plt.bar(counts.keys(), counts.values())\n",
    "plt.ylabel(\"Count\")\n",
    "plt.title(\"Metadata Coverage\")\n",
    "plt.xticks(rotation=45)\n",
    "plt.tight_layout()\n",
    "plt.show()\n"
   ]
  },
  {
   "cell_type": "markdown",
   "id": "230e2073",
   "metadata": {},
   "source": [
    "## HTML Preview of Enriched Taxa"
   ]
  },
  {
   "cell_type": "code",
   "execution_count": 20,
   "id": "2d8981eb",
   "metadata": {},
   "outputs": [
    {
     "data": {
      "text/html": [
       "<table border=\"1\" class=\"dataframe\">\n",
       "  <thead>\n",
       "    <tr style=\"text-align: right;\">\n",
       "      <th>image</th>\n",
       "      <th>ott_id</th>\n",
       "      <th>name</th>\n",
       "      <th>common_name</th>\n",
       "      <th>rank</th>\n",
       "      <th>enriched_score</th>\n",
       "      <th>full_description</th>\n",
       "      <th>link</th>\n",
       "    </tr>\n",
       "  </thead>\n",
       "  <tbody>\n",
       "    <tr>\n",
       "      <td><a href=\"http://commons.wikimedia.org/wiki/Special:FilePath/Mara%C3%B1%C3%B3n%20Crescentchest%20imported%20from%20iNaturalist%20photo%20114835231%20on%205%20August%202024.jpg\" target=\"_blank\"><img src=\"http://commons.wikimedia.org/wiki/Special:FilePath/Mara%C3%B1%C3%B3n%20Crescentchest%20imported%20from%20iNaturalist%20photo%20114835231%20on%205%20August%202024.jpg\" width=\"60\"></a></td>\n",
       "      <td>3598634</td>\n",
       "      <td>Melanopareia maranonica</td>\n",
       "      <td>Marañón Crescentchest</td>\n",
       "      <td>species</td>\n",
       "      <td>1.0</td>\n",
       "      <td><p class=\"mw-empty-elt\"> </p><p class=\"mw-empty-elt\"> </p> <p>The <b>Marañón crescentchest</b> (<i><b>Melanopareia maranonica</b></i>) is a species of bird in the family Melanopareiidae. It is found in southern Ecuador and northern Peru. </p></td>\n",
       "      <td><a href=\"https://en.wikipedia.org/wiki/Marañón_crescentchest\" target=\"_blank\">🔗</a></td>\n",
       "    </tr>\n",
       "    <tr>\n",
       "      <td><a href=\"http://commons.wikimedia.org/wiki/Special:FilePath/Orange-breasted%20sunbird%20%2853462067094%29.jpg\" target=\"_blank\"><img src=\"http://commons.wikimedia.org/wiki/Special:FilePath/Orange-breasted%20sunbird%20%2853462067094%29.jpg\" width=\"60\"></a></td>\n",
       "      <td>3597628</td>\n",
       "      <td>Anthobaphes violacea</td>\n",
       "      <td>Orange-breasted Sunbird</td>\n",
       "      <td>species</td>\n",
       "      <td>1.0</td>\n",
       "      <td><p class=\"mw-empty-elt\"> </p> <p>The <b>orange-breasted sunbird</b> (<i><b>Anthobaphes violacea</b></i>) is a species of small, predominantly nectar-feeding bird that is endemic to the fynbos shrubland biome of southwestern South Africa. It is the only member of the genus <i><b>Anthobaphes</b></i>, in the family Nectariniidae (the sunbirds and spiderhunters), though it is sometimes placed in the genus <i>Nectarinia</i>. The birds are sexually dimorphic, with females being olive green while the males are orange to yellow on the underside with bright green, blue and purple on the head and neck. </p></td>\n",
       "      <td><a href=\"https://en.wikipedia.org/wiki/Orange-breasted_sunbird\" target=\"_blank\">🔗</a></td>\n",
       "    </tr>\n",
       "    <tr>\n",
       "      <td><a href=\"http://commons.wikimedia.org/wiki/Special:FilePath/Broad-billed%20motmot%20%2802760%29.jpg\" target=\"_blank\"><img src=\"http://commons.wikimedia.org/wiki/Special:FilePath/Broad-billed%20motmot%20%2802760%29.jpg\" width=\"60\"></a></td>\n",
       "      <td>1050055</td>\n",
       "      <td>Electron</td>\n",
       "      <td>Electron</td>\n",
       "      <td>genus</td>\n",
       "      <td>1.0</td>\n",
       "      <td><p class=\"mw-empty-elt\"> </p> <p><i><b>Electron</b></i> is a genus of the motmots, a family of Neotropical near passerine birds. The genus has two species: </p> <p>Both inhabit humid evergreen tropical forest. Both occur in Central America, and the broad-billed motmot occurs in a large region of South America as well. </p><p>They are distinguished from other motmots by their much wider bills. The rackets on their tails are less dramatic than those of many other motmot species and may be absent. The species are very similar except in adult plumage (but the adult keel-billed resembles the juvenile broad-billed). A mixed pair apparently courting has been observed (Howell and Webb 1995). </p><p>The name <i>Electron</i> is a Latinization of the Ancient Greek word for amber, and can mean \"bright\" in scientific names (Jaeger 1978). The name was given 46 years before an elementary particle was named electron. </p></td>\n",
       "      <td><a href=\"https://en.wikipedia.org/wiki/Electron_(bird)\" target=\"_blank\">🔗</a></td>\n",
       "    </tr>\n",
       "    <tr>\n",
       "      <td><a href=\"http://commons.wikimedia.org/wiki/Special:FilePath/Melanerpes%20erythrocephalus%20-tree%20trunk-USA.jpg\" target=\"_blank\"><img src=\"http://commons.wikimedia.org/wiki/Special:FilePath/Melanerpes%20erythrocephalus%20-tree%20trunk-USA.jpg\" width=\"60\"></a></td>\n",
       "      <td>800693</td>\n",
       "      <td>Melanerpes erythrocephalus</td>\n",
       "      <td>Red-headed Woodpecker</td>\n",
       "      <td>species</td>\n",
       "      <td>1.0</td>\n",
       "      <td><p class=\"mw-empty-elt\"> </p> <p>The <b>red-headed woodpecker</b> (<i><b>Melanerpes erythrocephalus</b></i>) is a mid-sized woodpecker found in temperate North America. Its breeding habitat is open country across southern Canada and the east-central United States. It is rated as least concern on the International Union for Conservation of Nature (IUCN)'s Red List of Endangered species, having been down-listed from near threatened in 2018. </p><p>The red-headed woodpecker should not be confused with the red-bellied woodpecker, which is similar in size but has a vibrant orange-red crown and nape; the red-bellied woodpecker is named for the pale reddish blush of its lower belly and has a distinctly patterned black and white back rather than the solid black one of the red-headed woodpecker. </p></td>\n",
       "      <td><a href=\"https://en.wikipedia.org/wiki/Red-headed_woodpecker\" target=\"_blank\">🔗</a></td>\n",
       "    </tr>\n",
       "    <tr>\n",
       "      <td><a href=\"http://commons.wikimedia.org/wiki/Special:FilePath/Northiella%20haematogaster%20-Cocoparra%20National%20Park-8.jpg\" target=\"_blank\"><img src=\"http://commons.wikimedia.org/wiki/Special:FilePath/Northiella%20haematogaster%20-Cocoparra%20National%20Park-8.jpg\" width=\"60\"></a></td>\n",
       "      <td>771950</td>\n",
       "      <td>Northiella</td>\n",
       "      <td>Northiella</td>\n",
       "      <td>genus</td>\n",
       "      <td>1.0</td>\n",
       "      <td><p class=\"mw-empty-elt\"> </p> <p><b>Bluebonnets</b>, as they are commonly referred to, are small species of parrots native to Australia and classed within the <i>Northiella</i> genus—the <b>eastern bluebonnet</b> (<i>N. haematogaster</i> <small>Gould, 1838</small>) and the <b>Naretha bluebonnet</b> (<i>N. narethae</i> <small>H.L. White, 1921</small>). The genus is named in honour of Australian ornithologist Alfred John North. </p></td>\n",
       "      <td><a href=\"https://en.wikipedia.org/wiki/Bluebonnet_(bird)\" target=\"_blank\">🔗</a></td>\n",
       "    </tr>\n",
       "    <tr>\n",
       "      <td><a href=\"http://commons.wikimedia.org/wiki/Special:FilePath/Callimorpha.dominula.jpg\" target=\"_blank\"><img src=\"http://commons.wikimedia.org/wiki/Special:FilePath/Callimorpha.dominula.jpg\" width=\"60\"></a></td>\n",
       "      <td>254359</td>\n",
       "      <td>Callimorpha</td>\n",
       "      <td>Callimorpha</td>\n",
       "      <td>genus</td>\n",
       "      <td>1.0</td>\n",
       "      <td><p class=\"mw-empty-elt\"> </p> <p><i><b>Callimorpha</b></i> is a genus of tiger moths in the family Erebidae. </p></td>\n",
       "      <td><a href=\"https://en.wikipedia.org/wiki/Callimorpha\" target=\"_blank\">🔗</a></td>\n",
       "    </tr>\n",
       "    <tr>\n",
       "      <td><a href=\"http://commons.wikimedia.org/wiki/Special:FilePath/Moths%20of%20Costa%20Rica%20%28Coiffaitarctia%20steniptera%29.jpg\" target=\"_blank\"><img src=\"http://commons.wikimedia.org/wiki/Special:FilePath/Moths%20of%20Costa%20Rica%20%28Coiffaitarctia%20steniptera%29.jpg\" width=\"60\"></a></td>\n",
       "      <td>3184401</td>\n",
       "      <td>Coiffaitarctia</td>\n",
       "      <td>Coiffaitarctia</td>\n",
       "      <td>genus</td>\n",
       "      <td>1.0</td>\n",
       "      <td><p class=\"mw-empty-elt\"> </p> <p><i><b>Coiffaitarctia</b></i> is a genus of moths in the family Erebidae. The genus was erected by Hervé de Toulgoët in 1990. </p></td>\n",
       "      <td><a href=\"https://en.wikipedia.org/wiki/Coiffaitarctia\" target=\"_blank\">🔗</a></td>\n",
       "    </tr>\n",
       "    <tr>\n",
       "      <td><a href=\"http://commons.wikimedia.org/wiki/Special:FilePath/Amblyraja%20radiata%20Gervais.jpg\" target=\"_blank\"><img src=\"http://commons.wikimedia.org/wiki/Special:FilePath/Amblyraja%20radiata%20Gervais.jpg\" width=\"60\"></a></td>\n",
       "      <td>513579</td>\n",
       "      <td>Amblyraja radiata</td>\n",
       "      <td>Thorny skate</td>\n",
       "      <td>species</td>\n",
       "      <td>1.0</td>\n",
       "      <td><p class=\"mw-empty-elt\"> </p> <p>The <b>thorny skate</b> (<i>Amblyraja radiata</i>) is a species of fish in the family Rajidae. This bottom-living skate lives in the North and south-eastern Atlantic Ocean in depths ranging from 20 to 1,000 m (66–3,281 ft) and water temperatures from −1 to 14 °C (30–57 °F). </p></td>\n",
       "      <td><a href=\"https://en.wikipedia.org/wiki/Thorny_skate\" target=\"_blank\">🔗</a></td>\n",
       "    </tr>\n",
       "    <tr>\n",
       "      <td><a href=\"http://commons.wikimedia.org/wiki/Special:FilePath/Alopecosa%20inquilina.jpg\" target=\"_blank\"><img src=\"http://commons.wikimedia.org/wiki/Special:FilePath/Alopecosa%20inquilina.jpg\" width=\"60\"></a></td>\n",
       "      <td>300300</td>\n",
       "      <td>Alopecosa inquilina</td>\n",
       "      <td>Alopecosa inquilina</td>\n",
       "      <td>species</td>\n",
       "      <td>1.0</td>\n",
       "      <td><p class=\"mw-empty-elt\"> </p> <p><i><b>Alopecosa inquilina</b></i> is a species of wolf spider found throughout Europe, Russia and Kazakhstan. </p><p>The species was described in 1757 in the book <i>Svenska Spindlar</i> by Carl Alexander Clerck. </p></td>\n",
       "      <td><a href=\"https://en.wikipedia.org/wiki/Alopecosa_inquilina\" target=\"_blank\">🔗</a></td>\n",
       "    </tr>\n",
       "    <tr>\n",
       "      <td><a href=\"http://commons.wikimedia.org/wiki/Special:FilePath/Astropecten%20bispinosus%20Rab2015%203410.jpg\" target=\"_blank\"><img src=\"http://commons.wikimedia.org/wiki/Special:FilePath/Astropecten%20bispinosus%20Rab2015%203410.jpg\" width=\"60\"></a></td>\n",
       "      <td>914124</td>\n",
       "      <td>Astropecten bispinosus</td>\n",
       "      <td>Astropecten bispinosus</td>\n",
       "      <td>species</td>\n",
       "      <td>1.0</td>\n",
       "      <td><p class=\"mw-empty-elt\"> </p> <p><i><b>Astropecten bispinosus</b></i> is a sea star of the family Astropectinidae from the Mediterranean Sea. </p></td>\n",
       "      <td><a href=\"https://en.wikipedia.org/wiki/Astropecten_bispinosus\" target=\"_blank\">🔗</a></td>\n",
       "    </tr>\n",
       "  </tbody>\n",
       "</table>"
      ],
      "text/plain": [
       "<IPython.core.display.HTML object>"
      ]
     },
     "metadata": {},
     "output_type": "display_data"
    }
   ],
   "source": [
    "from IPython.display import display, HTML\n",
    "\n",
    "# Filter rows that have BOTH image and full description\n",
    "preview_df = df[\n",
    "    df[\"image_url\"].notna() &\n",
    "    df[\"full_description\"].notna()\n",
    "].copy()\n",
    "\n",
    "# Wikipedia link icon\n",
    "preview_df[\"link\"] = preview_df[\"wiki_page_url\"].apply(\n",
    "    lambda url: f'<a href=\"{url}\" target=\"_blank\">🔗</a>' if pd.notna(url) else \"\"\n",
    ")\n",
    "\n",
    "# Clickable thumbnail image\n",
    "preview_df[\"image\"] = preview_df[\"image_url\"].apply(\n",
    "    lambda url: f'<a href=\"{url}\" target=\"_blank\"><img src=\"{url}\" width=\"60\"></a>' if pd.notna(url) else \"\"\n",
    ")\n",
    "\n",
    "# Columns to display\n",
    "cols = [\n",
    "    \"image\",\n",
    "    \"ott_id\",\n",
    "    \"name\",\n",
    "    \"common_name\",\n",
    "    \"rank\",\n",
    "    \"enriched_score\",\n",
    "    \"full_description\",\n",
    "    \"link\"\n",
    "]\n",
    "\n",
    "html = preview_df[cols].sample(n=min(10, len(preview_df))).to_html(escape=False, index=False)\n",
    "display(HTML(html))"
   ]
  }
 ],
 "metadata": {
  "kernelspec": {
   "display_name": ".venv",
   "language": "python",
   "name": "python3"
  },
  "language_info": {
   "codemirror_mode": {
    "name": "ipython",
    "version": 3
   },
   "file_extension": ".py",
   "mimetype": "text/x-python",
   "name": "python",
   "nbconvert_exporter": "python",
   "pygments_lexer": "ipython3",
   "version": "3.13.5"
  }
 },
 "nbformat": 4,
 "nbformat_minor": 5
}
