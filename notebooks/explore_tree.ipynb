{
 "cells": [
  {
   "cell_type": "code",
   "execution_count": null,
   "id": "918cf1f6",
   "metadata": {},
   "outputs": [
    {
     "name": "stdout",
     "output_type": "stream",
     "text": [
      "Total rows: 2870658\n"
     ]
    },
    {
     "data": {
      "text/html": [
       "<div>\n",
       "<style scoped>\n",
       "    .dataframe tbody tr th:only-of-type {\n",
       "        vertical-align: middle;\n",
       "    }\n",
       "\n",
       "    .dataframe tbody tr th {\n",
       "        vertical-align: top;\n",
       "    }\n",
       "\n",
       "    .dataframe thead th {\n",
       "        text-align: right;\n",
       "    }\n",
       "</style>\n",
       "<table border=\"1\" class=\"dataframe\">\n",
       "  <thead>\n",
       "    <tr style=\"text-align: right;\">\n",
       "      <th></th>\n",
       "      <th>ott_id</th>\n",
       "      <th>name</th>\n",
       "      <th>parent_ott_id</th>\n",
       "    </tr>\n",
       "  </thead>\n",
       "  <tbody>\n",
       "    <tr>\n",
       "      <th>0</th>\n",
       "      <td>691846</td>\n",
       "      <td>Metazoa</td>\n",
       "      <td>NaN</td>\n",
       "    </tr>\n",
       "    <tr>\n",
       "      <th>1</th>\n",
       "      <td>67819</td>\n",
       "      <td>Porifera</td>\n",
       "      <td>691846</td>\n",
       "    </tr>\n",
       "    <tr>\n",
       "      <th>2</th>\n",
       "      <td>4939695</td>\n",
       "      <td>Clathrinidae environmental samples</td>\n",
       "      <td>67819</td>\n",
       "    </tr>\n",
       "    <tr>\n",
       "      <th>3</th>\n",
       "      <td>5260763</td>\n",
       "      <td>unclassified Clathrinidae</td>\n",
       "      <td>67819</td>\n",
       "    </tr>\n",
       "    <tr>\n",
       "      <th>4</th>\n",
       "      <td>5261574</td>\n",
       "      <td>Clathrinidae sp. BC12</td>\n",
       "      <td>67819</td>\n",
       "    </tr>\n",
       "  </tbody>\n",
       "</table>\n",
       "</div>"
      ],
      "text/plain": [
       "    ott_id                                name parent_ott_id\n",
       "0   691846                             Metazoa           NaN\n",
       "1    67819                            Porifera        691846\n",
       "2  4939695  Clathrinidae environmental samples         67819\n",
       "3  5260763           unclassified Clathrinidae         67819\n",
       "4  5261574               Clathrinidae sp. BC12         67819"
      ]
     },
     "metadata": {},
     "output_type": "display_data"
    },
    {
     "name": "stdout",
     "output_type": "stream",
     "text": [
      "Named nodes without ott_id: 0\n",
      "Non-root nodes without parent_ott_id: 0\n",
      "Invalid parent_ott_id references: 0\n",
      "\n",
      "Taxonomic rank distribution:\n"
     ]
    },
    {
     "data": {
      "text/plain": [
       "rank_depth\n",
       "0      259177\n",
       "1     1907433\n",
       "2      603566\n",
       "3       69287\n",
       "4       23795\n",
       "5        5478\n",
       "6        1419\n",
       "7         400\n",
       "8          62\n",
       "9          19\n",
       "10         11\n",
       "11          4\n",
       "12          6\n",
       "13          1\n",
       "Name: count, dtype: int64"
      ]
     },
     "metadata": {},
     "output_type": "display_data"
    }
   ],
   "source": [
    "import pandas as pd\n",
    "from IPython.display import display\n",
    "\n",
    "df = pd.read_csv(\"../data/metazoa_nodes.csv\", dtype={\"ott_id\": str, \"parent_ott_id\": str})\n",
    "\n",
    "print(\"Total rows:\", len(df))\n",
    "display(df.head())\n",
    "\n",
    "# Named nodes missing OTT IDs\n",
    "named = df[df['name'].notnull() & (df['name'] != '')]\n",
    "missing_ott = named[named['ott_id'].isna()]\n",
    "print(\"Named nodes without ott_id:\", len(missing_ott))\n",
    "if len(missing_ott) > 0:\n",
    "    display(missing_ott.sample(min(5, len(missing_ott))))\n",
    "\n",
    "\n",
    "# Non-root nodes missing parent IDs\n",
    "nonroot = df[df['ott_id'].notna() & (df['ott_id'] != \"691846\")]\n",
    "missing_parent = nonroot[nonroot['parent_ott_id'].isna()]\n",
    "print(\"Non-root nodes without parent_ott_id:\", len(missing_parent))\n",
    "if len(missing_parent) > 0:\n",
    "    display(missing_parent.sample(min(5, len(missing_parent))))\n",
    "\n",
    "\n",
    "# Invalid parent IDs\n",
    "valid_ids = set(df['ott_id'].dropna())\n",
    "bad_refs = df[df['parent_ott_id'].notna() & ~df['parent_ott_id'].isin(valid_ids)]\n",
    "print(\"Invalid parent_ott_id references:\", len(bad_refs))\n",
    "if len(bad_refs) > 0:\n",
    "    display(bad_refs.sample(min(5, len(bad_refs))))\n",
    "\n",
    "\n",
    "print(\"\\nTaxonomic rank distribution:\")\n",
    "df['rank_depth'] = df['name'].str.count(' ')\n",
    "depth_counts = df['rank_depth'].value_counts().sort_index()\n",
    "display(depth_counts)\n"
   ]
  },
  {
   "cell_type": "code",
   "execution_count": null,
   "id": "59d2d97a-87a4-4a09-a842-89343b1571b6",
   "metadata": {},
   "outputs": [],
   "source": []
  }
 ],
 "metadata": {
  "kernelspec": {
   "display_name": ".venv",
   "language": "python",
   "name": "python3"
  },
  "language_info": {
   "codemirror_mode": {
    "name": "ipython",
    "version": 3
   },
   "file_extension": ".py",
   "mimetype": "text/x-python",
   "name": "python",
   "nbconvert_exporter": "python",
   "pygments_lexer": "ipython3",
   "version": "3.13.5"
  }
 },
 "nbformat": 4,
 "nbformat_minor": 5
}
